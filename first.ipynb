{
 "cells": [
  {
   "attachments": {},
   "cell_type": "markdown",
   "metadata": {},
   "source": [
    "# First Try"
   ]
  },
  {
   "cell_type": "code",
   "execution_count": 87,
   "metadata": {},
   "outputs": [
    {
     "name": "stdout",
     "output_type": "stream",
     "text": [
      "Requirement already satisfied: ipykernel in .\\venv\\lib\\site-packages (from -r requirements.txt (line 1)) (6.21.2)\n",
      "Requirement already satisfied: pandas in .\\venv\\lib\\site-packages (from -r requirements.txt (line 2)) (1.5.3)\n",
      "Requirement already satisfied: numpy in .\\venv\\lib\\site-packages (from -r requirements.txt (line 3)) (1.24.2)\n",
      "Requirement already satisfied: matplotlib in .\\venv\\lib\\site-packages (from -r requirements.txt (line 4)) (3.7.0)\n",
      "Requirement already satisfied: tqdm in .\\venv\\lib\\site-packages (from -r requirements.txt (line 5)) (4.64.1)\n",
      "Requirement already satisfied: jupyter-client>=6.1.12 in .\\venv\\lib\\site-packages (from ipykernel->-r requirements.txt (line 1)) (8.0.3)\n",
      "Requirement already satisfied: packaging in .\\venv\\lib\\site-packages (from ipykernel->-r requirements.txt (line 1)) (23.0)\n",
      "Requirement already satisfied: debugpy>=1.6.5 in .\\venv\\lib\\site-packages (from ipykernel->-r requirements.txt (line 1)) (1.6.6)\n",
      "Requirement already satisfied: psutil in .\\venv\\lib\\site-packages (from ipykernel->-r requirements.txt (line 1)) (5.9.4)\n",
      "Requirement already satisfied: ipython>=7.23.1 in .\\venv\\lib\\site-packages (from ipykernel->-r requirements.txt (line 1)) (8.10.0)\n",
      "Requirement already satisfied: comm>=0.1.1 in .\\venv\\lib\\site-packages (from ipykernel->-r requirements.txt (line 1)) (0.1.2)\n",
      "Requirement already satisfied: tornado>=6.1 in .\\venv\\lib\\site-packages (from ipykernel->-r requirements.txt (line 1)) (6.2)\n",
      "Requirement already satisfied: nest-asyncio in .\\venv\\lib\\site-packages (from ipykernel->-r requirements.txt (line 1)) (1.5.6)\n",
      "Requirement already satisfied: matplotlib-inline>=0.1 in .\\venv\\lib\\site-packages (from ipykernel->-r requirements.txt (line 1)) (0.1.6)\n",
      "Requirement already satisfied: traitlets>=5.4.0 in .\\venv\\lib\\site-packages (from ipykernel->-r requirements.txt (line 1)) (5.9.0)\n",
      "Requirement already satisfied: pyzmq>=20 in .\\venv\\lib\\site-packages (from ipykernel->-r requirements.txt (line 1)) (25.0.0)\n",
      "Requirement already satisfied: jupyter-core!=5.0.*,>=4.12 in .\\venv\\lib\\site-packages (from ipykernel->-r requirements.txt (line 1)) (5.2.0)\n",
      "Requirement already satisfied: python-dateutil>=2.8.1 in .\\venv\\lib\\site-packages (from pandas->-r requirements.txt (line 2)) (2.8.2)\n",
      "Requirement already satisfied: pytz>=2020.1 in .\\venv\\lib\\site-packages (from pandas->-r requirements.txt (line 2)) (2022.7.1)\n",
      "Requirement already satisfied: kiwisolver>=1.0.1 in .\\venv\\lib\\site-packages (from matplotlib->-r requirements.txt (line 4)) (1.4.4)\n",
      "Requirement already satisfied: cycler>=0.10 in .\\venv\\lib\\site-packages (from matplotlib->-r requirements.txt (line 4)) (0.11.0)\n",
      "Requirement already satisfied: fonttools>=4.22.0 in .\\venv\\lib\\site-packages (from matplotlib->-r requirements.txt (line 4)) (4.38.0)\n",
      "Requirement already satisfied: pillow>=6.2.0 in .\\venv\\lib\\site-packages (from matplotlib->-r requirements.txt (line 4)) (9.4.0)\n",
      "Requirement already satisfied: contourpy>=1.0.1 in .\\venv\\lib\\site-packages (from matplotlib->-r requirements.txt (line 4)) (1.0.7)\n",
      "Requirement already satisfied: pyparsing>=2.3.1 in .\\venv\\lib\\site-packages (from matplotlib->-r requirements.txt (line 4)) (3.0.9)\n",
      "Requirement already satisfied: importlib-resources>=3.2.0 in .\\venv\\lib\\site-packages (from matplotlib->-r requirements.txt (line 4)) (5.12.0)\n",
      "Requirement already satisfied: colorama in .\\venv\\lib\\site-packages (from tqdm->-r requirements.txt (line 5)) (0.4.6)\n",
      "Requirement already satisfied: zipp>=3.1.0 in .\\venv\\lib\\site-packages (from importlib-resources>=3.2.0->matplotlib->-r requirements.txt (line 4)) (3.14.0)\n",
      "Requirement already satisfied: jedi>=0.16 in .\\venv\\lib\\site-packages (from ipython>=7.23.1->ipykernel->-r requirements.txt (line 1)) (0.18.2)\n",
      "Requirement already satisfied: decorator in .\\venv\\lib\\site-packages (from ipython>=7.23.1->ipykernel->-r requirements.txt (line 1)) (5.1.1)\n",
      "Requirement already satisfied: stack-data in .\\venv\\lib\\site-packages (from ipython>=7.23.1->ipykernel->-r requirements.txt (line 1)) (0.6.2)\n",
      "Requirement already satisfied: backcall in .\\venv\\lib\\site-packages (from ipython>=7.23.1->ipykernel->-r requirements.txt (line 1)) (0.2.0)\n",
      "Requirement already satisfied: pickleshare in .\\venv\\lib\\site-packages (from ipython>=7.23.1->ipykernel->-r requirements.txt (line 1)) (0.7.5)\n",
      "Requirement already satisfied: prompt-toolkit<3.1.0,>=3.0.30 in .\\venv\\lib\\site-packages (from ipython>=7.23.1->ipykernel->-r requirements.txt (line 1)) (3.0.36)\n",
      "Requirement already satisfied: pygments>=2.4.0 in .\\venv\\lib\\site-packages (from ipython>=7.23.1->ipykernel->-r requirements.txt (line 1)) (2.14.0)\n",
      "Requirement already satisfied: importlib-metadata>=4.8.3 in .\\venv\\lib\\site-packages (from jupyter-client>=6.1.12->ipykernel->-r requirements.txt (line 1)) (6.0.0)\n",
      "Requirement already satisfied: pywin32>=1.0 in .\\venv\\lib\\site-packages (from jupyter-core!=5.0.*,>=4.12->ipykernel->-r requirements.txt (line 1)) (305)\n",
      "Requirement already satisfied: platformdirs>=2.5 in .\\venv\\lib\\site-packages (from jupyter-core!=5.0.*,>=4.12->ipykernel->-r requirements.txt (line 1)) (3.0.0)\n",
      "Requirement already satisfied: six>=1.5 in .\\venv\\lib\\site-packages (from python-dateutil>=2.8.1->pandas->-r requirements.txt (line 2)) (1.16.0)\n",
      "Requirement already satisfied: parso<0.9.0,>=0.8.0 in .\\venv\\lib\\site-packages (from jedi>=0.16->ipython>=7.23.1->ipykernel->-r requirements.txt (line 1)) (0.8.3)\n",
      "Requirement already satisfied: wcwidth in .\\venv\\lib\\site-packages (from prompt-toolkit<3.1.0,>=3.0.30->ipython>=7.23.1->ipykernel->-r requirements.txt (line 1)) (0.2.6)\n",
      "Requirement already satisfied: executing>=1.2.0 in .\\venv\\lib\\site-packages (from stack-data->ipython>=7.23.1->ipykernel->-r requirements.txt (line 1)) (1.2.0)\n",
      "Requirement already satisfied: pure-eval in .\\venv\\lib\\site-packages (from stack-data->ipython>=7.23.1->ipykernel->-r requirements.txt (line 1)) (0.2.2)\n",
      "Requirement already satisfied: asttokens>=2.1.0 in .\\venv\\lib\\site-packages (from stack-data->ipython>=7.23.1->ipykernel->-r requirements.txt (line 1)) (2.2.1)\n",
      "Note: you may need to restart the kernel to use updated packages.\n"
     ]
    }
   ],
   "source": [
    "%pip install -r requirements.txt"
   ]
  },
  {
   "cell_type": "code",
   "execution_count": 88,
   "metadata": {},
   "outputs": [],
   "source": [
    "import pandas as pd\n",
    "import numpy as np\n",
    "import matplotlib.pyplot as plt"
   ]
  },
  {
   "cell_type": "code",
   "execution_count": 89,
   "metadata": {},
   "outputs": [],
   "source": [
    "data = pd.read_csv('data\\\\train.csv')"
   ]
  },
  {
   "cell_type": "code",
   "execution_count": 90,
   "metadata": {},
   "outputs": [],
   "source": [
    "data = np.array(data)\n",
    "m, n = data.shape\n",
    "np.random.shuffle(data) # shuffle before splitting into dev and training sets"
   ]
  },
  {
   "cell_type": "code",
   "execution_count": 91,
   "metadata": {},
   "outputs": [],
   "source": [
    "data_dev = data[0:1000].T\n",
    "Y_dev = data_dev[0]\n",
    "X_dev = data_dev[1:n]\n",
    "X_dev = X_dev / 255.\n",
    "\n",
    "data_train = data[1000:m].T\n",
    "Y_train = data_train[0]\n",
    "X_train = data_train[1:n]\n",
    "X_train = X_train / 255.\n",
    "_,m_train = X_train.shape"
   ]
  },
  {
   "cell_type": "code",
   "execution_count": 92,
   "metadata": {},
   "outputs": [],
   "source": [
    "def init_params():\n",
    "    W1 = np.random.normal(size=(10, 784)) * np.sqrt(1./(784))\n",
    "    b1 = np.random.normal(size=(10, 1)) * np.sqrt(1./10)\n",
    "    W2 = np.random.normal(size=(10, 10)) * np.sqrt(1./20)\n",
    "    b2 = np.random.normal(size=(10, 1)) * np.sqrt(1./(784))\n",
    "    return W1, b1, W2, b2\n",
    "\n",
    "def ReLU(Z):\n",
    "    return np.maximum(Z, 0)\n",
    "\n",
    "def softmax(Z):\n",
    "    A = np.exp(Z) / sum(np.exp(Z))\n",
    "    return A\n",
    "    \n",
    "def forward_prop(W1, b1, W2, b2, X):\n",
    "    Z1 = W1.dot(X) + b1\n",
    "    A1 = ReLU(Z1)\n",
    "    Z2 = W2.dot(A1) + b2\n",
    "    A2 = softmax(Z2)\n",
    "    return Z1, A1, Z2, A2\n",
    "\n",
    "def ReLU_deriv(Z):\n",
    "    return Z > 0\n",
    "\n",
    "def one_hot(Y):\n",
    "    one_hot_Y = np.zeros((Y.size, Y.max() + 1))\n",
    "    one_hot_Y[np.arange(Y.size), Y] = 1\n",
    "    one_hot_Y = one_hot_Y.T\n",
    "    return one_hot_Y\n",
    "\n",
    "def backward_prop(Z1, A1, Z2, A2, W1, W2, X, Y):\n",
    "    one_hot_Y = one_hot(Y)\n",
    "    dZ2 = A2 - one_hot_Y\n",
    "    dW2 = 1 / m * dZ2.dot(A1.T)\n",
    "    db2 = 1 / m * np.sum(dZ2)\n",
    "    dZ1 = W2.T.dot(dZ2) * ReLU_deriv(Z1)\n",
    "    dW1 = 1 / m * dZ1.dot(X.T)\n",
    "    db1 = 1 / m * np.sum(dZ1)\n",
    "    return dW1, db1, dW2, db2\n",
    "\n",
    "def update_params(W1, b1, W2, b2, dW1, db1, dW2, db2, alpha):\n",
    "    W1 = W1 - alpha * dW1\n",
    "    b1 = b1 - alpha * db1    \n",
    "    W2 = W2 - alpha * dW2  \n",
    "    b2 = b2 - alpha * db2    \n",
    "    return W1, b1, W2, b2"
   ]
  },
  {
   "cell_type": "code",
   "execution_count": 93,
   "metadata": {},
   "outputs": [],
   "source": [
    "from tqdm import tqdm"
   ]
  },
  {
   "cell_type": "code",
   "execution_count": 94,
   "metadata": {},
   "outputs": [],
   "source": [
    "def get_predictions(A2):\n",
    "    return np.argmax(A2, 0)\n",
    "\n",
    "def get_accuracy(predictions, Y):\n",
    "    print(predictions, Y)\n",
    "    return np.sum(predictions == Y) / Y.size\n",
    "\n",
    "def gradient_descent(X, Y, alpha, iterations):\n",
    "    W1, b1, W2, b2 = init_params()\n",
    "    A2 = np.arange(1, 1)\n",
    "    for i in tqdm(range(iterations)):\n",
    "        Z1, A1, Z2, A2 = forward_prop(W1, b1, W2, b2, X)\n",
    "        dW1, db1, dW2, db2 = backward_prop(Z1, A1, Z2, A2, W1, W2, X, Y)\n",
    "        W1, b1, W2, b2 = update_params(W1, b1, W2, b2, dW1, db1, dW2, db2, alpha)\n",
    "    return W1, b1, W2, b2"
   ]
  },
  {
   "cell_type": "code",
   "execution_count": 95,
   "metadata": {},
   "outputs": [
    {
     "name": "stderr",
     "output_type": "stream",
     "text": [
      "100%|██████████| 500/500 [00:21<00:00, 23.42it/s]\n"
     ]
    }
   ],
   "source": [
    "W1, b1, W2, b2 = gradient_descent(X_train, Y_train, 0.19, 500)"
   ]
  },
  {
   "cell_type": "code",
   "execution_count": 96,
   "metadata": {},
   "outputs": [],
   "source": [
    "def make_predictions(X, W1, b1, W2, b2):\n",
    "    _, _, _, A2 = forward_prop(W1, b1, W2, b2, X)\n",
    "    predictions = get_predictions(A2)\n",
    "    return predictions\n",
    "\n",
    "def test_prediction(index, W1, b1, W2, b2):\n",
    "    current_image = X_train[:, index, None]\n",
    "    prediction = make_predictions(X_train[:, index, None], W1, b1, W2, b2)\n",
    "    label = Y_train[index]\n",
    "    print(\"Prediction: \", prediction)\n",
    "    print(\"Label: \", label)\n",
    "    \n",
    "    current_image = current_image.reshape((28, 28)) * 255\n",
    "    plt.gray()\n",
    "    plt.imshow(current_image, interpolation='nearest')\n",
    "    plt.show()"
   ]
  },
  {
   "cell_type": "code",
   "execution_count": 100,
   "metadata": {},
   "outputs": [
    {
     "name": "stdout",
     "output_type": "stream",
     "text": [
      "Prediction:  [1]\n",
      "Label:  1\n"
     ]
    },
    {
     "data": {
      "image/png": "[encoded data removed]",
      "text/plain": [
       "<Figure size 640x480 with 1 Axes>"
      ]
     },
     "metadata": {},
     "output_type": "display_data"
    },
    {
     "name": "stdout",
     "output_type": "stream",
     "text": [
      "Prediction:  [5]\n",
      "Label:  5\n"
     ]
    },
    {
     "data": {
      "image/png": "[encoded data removed]",
      "text/plain": [
       "<Figure size 640x480 with 1 Axes>"
      ]
     },
     "metadata": {},
     "output_type": "display_data"
    },
    {
     "name": "stdout",
     "output_type": "stream",
     "text": [
      "Prediction:  [8]\n",
      "Label:  8\n"
     ]
    },
    {
     "data": {
      "image/png": "[encoded data removed]",
      "text/plain": [
       "<Figure size 640x480 with 1 Axes>"
      ]
     },
     "metadata": {},
     "output_type": "display_data"
    },
    {
     "name": "stdout",
     "output_type": "stream",
     "text": [
      "Prediction:  [2]\n",
      "Label:  2\n"
     ]
    },
    {
     "data": {
      "image/png": "[encoded data removed]",
      "text/plain": [
       "<Figure size 640x480 with 1 Axes>"
      ]
     },
     "metadata": {},
     "output_type": "display_data"
    }
   ],
   "source": [
    "test_prediction(12, W1, b1, W2, b2)\n",
    "test_prediction(3, W1, b1, W2, b2)\n",
    "test_prediction(0, W1, b1, W2, b2)\n",
    "test_prediction(47, W1, b1, W2, b2)"
   ]
  },
  {
   "cell_type": "code",
   "execution_count": 98,
   "metadata": {},
   "outputs": [
    {
     "name": "stdout",
     "output_type": "stream",
     "text": [
      "[8 8 9 7 5 5 3 8 4 8 5 7 3 1 8 3 8 3 0 8 3 2 9 9 2 8 9 1 1 6 0 1 3 5 7 4 9\n",
      " 0 6 3 1 1 2 9 2 7 7 2 4 4 9 9 5 7 1 7 3 3 5 6 0 7 7 0 7 4 2 4 8 5 9 9 0 6\n",
      " 3 8 1 1 2 8 8 0 0 8 8 7 2 5 8 9 5 8 6 0 6 8 9 1 5 5 3 0 3 0 3 3 5 2 3 3 7\n",
      " 1 4 2 1 0 9 5 8 7 4 5 6 6 0 6 0 3 4 1 2 3 0 7 9 9 0 5 5 0 2 3 8 8 5 4 8 2\n",
      " 1 9 4 6 6 0 1 2 3 0 0 4 7 6 7 4 8 8 2 4 6 8 9 1 8 2 1 4 1 9 4 1 3 0 3 8 6\n",
      " 7 8 9 7 0 9 2 3 0 1 5 5 8 1 5 0 8 1 2 8 3 3 9 4 4 7 4 7 7 3 6 3 1 3 8 6 7\n",
      " 0 2 3 0 7 0 7 8 3 4 2 4 0 2 6 1 0 8 0 6 9 1 3 9 3 7 0 4 3 5 4 3 1 4 8 0 1\n",
      " 7 7 2 0 8 0 8 2 3 6 1 9 4 0 1 2 2 7 2 7 8 6 4 3 5 7 9 7 8 7 0 6 5 2 9 7 5\n",
      " 7 9 5 0 0 5 2 5 6 9 7 0 6 6 7 5 3 4 4 6 3 4 4 8 3 6 5 4 0 0 8 9 6 4 9 9 4\n",
      " 3 8 9 8 8 7 9 0 8 2 1 3 6 2 4 0 7 1 5 3 0 7 3 6 4 9 4 2 0 7 3 5 0 3 0 7 4\n",
      " 2 5 9 0 9 9 7 7 3 2 5 8 0 2 6 4 8 3 6 8 8 9 5 3 1 9 3 4 0 6 3 8 6 6 3 4 1\n",
      " 3 7 3 5 3 7 7 6 5 0 8 6 4 7 1 1 0 0 2 3 9 5 2 0 8 1 0 7 2 1 7 6 2 1 7 5 4\n",
      " 0 9 4 4 0 1 4 6 5 3 2 8 5 6 3 1 0 4 8 2 4 5 8 7 8 2 5 3 8 6 6 1 7 0 3 7 7\n",
      " 7 8 0 9 6 6 7 5 4 2 3 5 3 1 6 6 7 9 7 7 1 4 6 7 8 9 5 2 6 2 2 2 8 1 5 6 3\n",
      " 1 1 3 6 4 6 9 3 3 1 2 7 4 5 1 1 0 8 1 4 7 7 8 7 5 6 4 5 5 6 5 0 4 0 1 8 0\n",
      " 1 6 4 8 3 6 2 6 7 5 9 1 8 5 2 2 4 7 4 0 1 7 5 9 2 6 2 1 1 9 2 2 8 7 8 2 9\n",
      " 3 3 6 8 4 2 2 9 9 0 9 4 2 3 6 7 9 8 7 0 3 7 2 9 0 6 6 9 3 6 6 2 2 1 9 9 6\n",
      " 4 4 0 5 9 7 1 5 0 8 1 7 0 9 7 5 0 8 3 3 5 0 9 6 2 5 6 5 7 2 1 4 3 1 4 5 5\n",
      " 5 8 2 6 6 8 5 7 3 5 1 3 7 6 6 8 3 6 1 5 0 4 9 2 1 5 0 1 9 3 1 8 4 2 5 1 0\n",
      " 6 3 9 3 9 5 0 9 3 1 4 9 6 8 1 4 4 3 3 8 5 7 3 3 6 7 1 4 5 4 6 9 3 4 2 8 8\n",
      " 2 3 6 1 8 7 5 3 4 7 8 7 6 5 4 8 3 8 1 2 1 9 4 0 5 1 0 3 8 0 0 7 5 7 8 4 1\n",
      " 6 1 7 1 6 1 7 2 6 5 7 6 1 0 9 0 3 0 9 9 7 7 4 1 9 8 9 1 5 3 6 6 1 6 6 8 1\n",
      " 0 6 4 2 5 4 5 3 5 9 1 8 7 1 3 1 0 9 9 5 4 9 4 2 4 7 9 5 8 1 5 0 0 4 1 7 5\n",
      " 4 2 1 0 1 4 8 1 7 9 1 5 0 1 6 0 6 3 2 9 4 5 0 7 5 1 5 6 0 5 1 8 2 6 1 8 7\n",
      " 0 5 4 8 0 3 8 4 9 8 9 7 3 4 6 8 4 7 1 4 4 8 8 4 8 9 6 1 5 5 8 7 4 6 1 8 6\n",
      " 6 8 3 2 4 6 5 5 3 9 1 6 3 0 4 7 3 7 8 0 4 4 0 2 2 3 0 3 7 2 2 2 8 2 9 2 4\n",
      " 4 5 3 1 3 8 7 1 4 0 2 5 2 1 8 6 3 8 6 9 3 8 9 4 5 5 1 7 0 7 9 7 9 6 5 8 5\n",
      " 3] [8 8 9 7 5 3 5 8 9 8 5 7 3 1 8 3 8 3 0 8 3 2 9 9 2 8 9 1 1 6 0 1 3 5 7 4 9\n",
      " 0 6 3 1 1 2 9 2 7 7 2 9 4 9 9 5 7 1 7 3 3 3 6 0 7 7 0 7 9 2 4 8 5 9 9 0 6\n",
      " 3 8 1 1 2 8 8 0 0 2 8 7 2 5 8 9 5 8 2 0 6 8 9 1 5 5 9 0 3 0 3 3 5 2 3 3 7\n",
      " 1 4 6 1 0 9 5 8 7 4 5 6 6 0 6 0 3 4 1 2 3 0 7 9 9 0 5 5 0 2 3 8 8 5 4 2 2\n",
      " 1 9 4 6 6 0 1 2 7 0 0 4 7 6 7 4 8 8 2 4 6 5 9 1 8 2 1 4 1 9 4 1 3 0 3 8 6\n",
      " 7 8 9 7 0 9 2 3 0 1 5 5 8 1 5 0 8 1 2 8 3 3 4 4 4 7 4 9 7 3 6 3 1 3 8 6 7\n",
      " 0 2 3 0 7 0 7 8 3 4 2 4 0 2 6 1 0 8 0 6 9 1 3 9 3 7 0 4 3 5 4 3 1 4 8 0 1\n",
      " 7 7 2 0 8 0 8 2 3 2 1 9 4 0 1 2 3 7 2 9 8 5 4 0 5 7 4 7 8 7 0 6 5 2 9 7 5\n",
      " 7 4 5 0 0 5 2 5 6 5 7 0 6 6 7 5 3 4 4 6 3 4 4 8 3 4 5 4 0 0 8 9 6 4 9 9 4\n",
      " 3 2 4 8 8 7 9 0 8 2 1 3 5 2 4 0 7 1 5 3 0 7 3 6 4 9 4 2 0 7 3 5 0 3 0 7 4\n",
      " 2 5 9 0 9 5 7 7 3 2 5 8 0 2 6 4 8 3 6 8 8 9 5 3 1 9 3 4 0 6 1 8 6 8 3 4 1\n",
      " 3 7 3 5 3 7 7 6 5 0 8 6 4 7 1 1 0 0 2 3 9 5 2 0 8 1 0 7 2 1 2 6 2 1 7 5 4\n",
      " 0 9 4 4 0 1 4 6 5 3 2 8 5 6 3 1 0 4 8 2 7 5 8 7 5 2 9 3 8 6 6 1 7 0 3 7 7\n",
      " 7 8 2 9 6 6 7 5 4 2 3 5 3 1 6 6 7 9 2 7 1 4 6 7 8 9 8 2 6 3 2 2 8 1 5 6 3\n",
      " 1 1 3 6 4 6 9 2 3 1 2 7 5 5 1 1 0 8 1 4 7 7 8 7 5 6 4 5 5 6 4 0 4 0 1 8 0\n",
      " 1 6 4 8 3 5 2 6 7 5 9 1 8 5 2 2 4 7 4 0 1 7 5 9 2 6 2 1 1 9 2 3 8 7 8 2 9\n",
      " 3 3 6 8 6 2 6 9 9 0 9 4 2 3 6 7 9 8 7 0 3 7 2 9 0 6 6 3 9 6 6 2 2 1 7 3 6\n",
      " 4 4 0 5 9 7 1 5 0 8 1 7 0 9 7 5 0 8 9 3 5 0 9 6 2 5 6 5 7 2 1 4 3 1 4 5 5\n",
      " 5 4 2 6 6 8 5 7 8 5 1 8 7 6 6 8 3 6 1 5 0 4 9 2 1 5 0 1 9 3 1 8 4 2 5 1 0\n",
      " 6 3 9 3 9 5 0 9 3 1 4 9 6 8 1 4 4 3 3 8 5 7 3 3 6 3 1 4 5 4 6 9 3 4 2 8 8\n",
      " 2 3 6 1 8 7 5 3 4 9 8 9 6 5 4 1 3 8 1 2 1 9 4 0 5 1 0 3 8 0 0 7 5 7 8 4 1\n",
      " 6 1 7 1 6 1 7 2 5 3 7 6 1 0 9 0 3 0 9 9 7 7 4 1 9 8 4 1 5 3 6 6 1 6 6 8 1\n",
      " 0 6 4 2 5 4 5 9 5 9 1 8 7 1 3 1 3 9 9 5 2 9 4 2 4 7 9 5 8 1 5 0 0 4 1 7 5\n",
      " 4 2 1 0 1 4 2 1 7 9 1 5 0 1 6 0 6 3 2 9 4 5 0 7 5 1 5 6 0 5 1 8 2 6 1 8 7\n",
      " 0 9 4 8 0 3 8 4 9 8 9 9 3 4 6 8 4 7 1 4 2 8 8 4 8 9 4 1 5 5 8 7 4 6 1 8 5\n",
      " 6 8 3 8 4 6 5 5 3 4 1 6 3 0 4 2 3 7 8 0 4 4 0 2 2 8 0 3 7 2 2 2 8 2 9 2 7\n",
      " 4 5 3 1 3 8 7 1 4 0 0 5 2 1 8 6 3 8 6 5 3 8 9 7 5 5 1 7 0 7 9 7 9 6 6 8 5\n",
      " 3]\n"
     ]
    },
    {
     "data": {
      "text/plain": [
       "0.922"
      ]
     },
     "execution_count": 98,
     "metadata": {},
     "output_type": "execute_result"
    }
   ],
   "source": [
    "dev_predictions = make_predictions(X_dev, W1, b1, W2, b2)\n",
    "get_accuracy(dev_predictions, Y_dev)"
   ]
  }
 ],
 "metadata": {
  "kernelspec": {
   "display_name": "venv",
   "language": "python",
   "name": "python3"
  },
  "language_info": {
   "codemirror_mode": {
    "name": "ipython",
    "version": 3
   },
   "file_extension": ".py",
   "mimetype": "text/x-python",
   "name": "python",
   "nbconvert_exporter": "python",
   "pygments_lexer": "ipython3",
   "version": "3.9.13"
  },
  "orig_nbformat": 4,
  "vscode": {
   "interpreter": {
    "hash": "a82c8ca98fb27ebdec13d4bba2bd2c17d00e16210326b75314fe55d67861f95b"
   }
  }
 },
 "nbformat": 4,
 "nbformat_minor": 2
}
