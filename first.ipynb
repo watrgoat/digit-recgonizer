{
 "cells": [
  {
   "attachments": {},
   "cell_type": "markdown",
   "metadata": {},
   "source": [
    "# First Try"
   ]
  },
  {
   "cell_type": "code",
   "execution_count": 4,
   "metadata": {},
   "outputs": [
    {
     "name": "stdout",
     "output_type": "stream",
     "text": [
      "Requirement already satisfied: ipykernel in .\\venv\\lib\\site-packages (from -r requirements.txt (line 1)) (6.21.2)\n",
      "Requirement already satisfied: pandas in .\\venv\\lib\\site-packages (from -r requirements.txt (line 2)) (1.5.3)\n",
      "Requirement already satisfied: numpy in .\\venv\\lib\\site-packages (from -r requirements.txt (line 3)) (1.24.2)\n",
      "Requirement already satisfied: matplotlib in .\\venv\\lib\\site-packages (from -r requirements.txt (line 4)) (3.7.0)\n",
      "Requirement already satisfied: pyzmq>=20 in .\\venv\\lib\\site-packages (from ipykernel->-r requirements.txt (line 1)) (25.0.0)\n",
      "Requirement already satisfied: tornado>=6.1 in .\\venv\\lib\\site-packages (from ipykernel->-r requirements.txt (line 1)) (6.2)\n",
      "Requirement already satisfied: comm>=0.1.1 in .\\venv\\lib\\site-packages (from ipykernel->-r requirements.txt (line 1)) (0.1.2)\n",
      "Requirement already satisfied: jupyter-core!=5.0.*,>=4.12 in .\\venv\\lib\\site-packages (from ipykernel->-r requirements.txt (line 1)) (5.2.0)\n",
      "Requirement already satisfied: matplotlib-inline>=0.1 in .\\venv\\lib\\site-packages (from ipykernel->-r requirements.txt (line 1)) (0.1.6)\n",
      "Requirement already satisfied: packaging in .\\venv\\lib\\site-packages (from ipykernel->-r requirements.txt (line 1)) (23.0)\n",
      "Requirement already satisfied: nest-asyncio in .\\venv\\lib\\site-packages (from ipykernel->-r requirements.txt (line 1)) (1.5.6)\n",
      "Requirement already satisfied: traitlets>=5.4.0 in .\\venv\\lib\\site-packages (from ipykernel->-r requirements.txt (line 1)) (5.9.0)\n",
      "Requirement already satisfied: jupyter-client>=6.1.12 in .\\venv\\lib\\site-packages (from ipykernel->-r requirements.txt (line 1)) (8.0.3)\n",
      "Requirement already satisfied: psutil in .\\venv\\lib\\site-packages (from ipykernel->-r requirements.txt (line 1)) (5.9.4)\n",
      "Requirement already satisfied: debugpy>=1.6.5 in .\\venv\\lib\\site-packages (from ipykernel->-r requirements.txt (line 1)) (1.6.6)\n",
      "Requirement already satisfied: ipython>=7.23.1 in .\\venv\\lib\\site-packages (from ipykernel->-r requirements.txt (line 1)) (8.10.0)\n",
      "Requirement already satisfied: python-dateutil>=2.8.1 in .\\venv\\lib\\site-packages (from pandas->-r requirements.txt (line 2)) (2.8.2)\n",
      "Requirement already satisfied: pytz>=2020.1 in .\\venv\\lib\\site-packages (from pandas->-r requirements.txt (line 2)) (2022.7.1)\n",
      "Requirement already satisfied: importlib-resources>=3.2.0 in .\\venv\\lib\\site-packages (from matplotlib->-r requirements.txt (line 4)) (5.12.0)\n",
      "Requirement already satisfied: cycler>=0.10 in .\\venv\\lib\\site-packages (from matplotlib->-r requirements.txt (line 4)) (0.11.0)\n",
      "Requirement already satisfied: pyparsing>=2.3.1 in .\\venv\\lib\\site-packages (from matplotlib->-r requirements.txt (line 4)) (3.0.9)\n",
      "Requirement already satisfied: contourpy>=1.0.1 in .\\venv\\lib\\site-packages (from matplotlib->-r requirements.txt (line 4)) (1.0.7)\n",
      "Requirement already satisfied: kiwisolver>=1.0.1 in .\\venv\\lib\\site-packages (from matplotlib->-r requirements.txt (line 4)) (1.4.4)\n",
      "Requirement already satisfied: fonttools>=4.22.0 in .\\venv\\lib\\site-packages (from matplotlib->-r requirements.txt (line 4)) (4.38.0)\n",
      "Requirement already satisfied: pillow>=6.2.0 in .\\venv\\lib\\site-packages (from matplotlib->-r requirements.txt (line 4)) (9.4.0)\n",
      "Requirement already satisfied: zipp>=3.1.0 in .\\venv\\lib\\site-packages (from importlib-resources>=3.2.0->matplotlib->-r requirements.txt (line 4)) (3.14.0)\n",
      "Requirement already satisfied: backcall in .\\venv\\lib\\site-packages (from ipython>=7.23.1->ipykernel->-r requirements.txt (line 1)) (0.2.0)\n",
      "Requirement already satisfied: colorama in .\\venv\\lib\\site-packages (from ipython>=7.23.1->ipykernel->-r requirements.txt (line 1)) (0.4.6)\n",
      "Requirement already satisfied: prompt-toolkit<3.1.0,>=3.0.30 in .\\venv\\lib\\site-packages (from ipython>=7.23.1->ipykernel->-r requirements.txt (line 1)) (3.0.36)\n",
      "Requirement already satisfied: jedi>=0.16 in .\\venv\\lib\\site-packages (from ipython>=7.23.1->ipykernel->-r requirements.txt (line 1)) (0.18.2)\n",
      "Requirement already satisfied: decorator in .\\venv\\lib\\site-packages (from ipython>=7.23.1->ipykernel->-r requirements.txt (line 1)) (5.1.1)\n",
      "Requirement already satisfied: pygments>=2.4.0 in .\\venv\\lib\\site-packages (from ipython>=7.23.1->ipykernel->-r requirements.txt (line 1)) (2.14.0)\n",
      "Requirement already satisfied: pickleshare in .\\venv\\lib\\site-packages (from ipython>=7.23.1->ipykernel->-r requirements.txt (line 1)) (0.7.5)\n",
      "Requirement already satisfied: stack-data in .\\venv\\lib\\site-packages (from ipython>=7.23.1->ipykernel->-r requirements.txt (line 1)) (0.6.2)\n",
      "Requirement already satisfied: importlib-metadata>=4.8.3 in .\\venv\\lib\\site-packages (from jupyter-client>=6.1.12->ipykernel->-r requirements.txt (line 1)) (6.0.0)\n",
      "Requirement already satisfied: pywin32>=1.0 in .\\venv\\lib\\site-packages (from jupyter-core!=5.0.*,>=4.12->ipykernel->-r requirements.txt (line 1)) (305)\n",
      "Requirement already satisfied: platformdirs>=2.5 in .\\venv\\lib\\site-packages (from jupyter-core!=5.0.*,>=4.12->ipykernel->-r requirements.txt (line 1)) (3.0.0)\n",
      "Requirement already satisfied: six>=1.5 in .\\venv\\lib\\site-packages (from python-dateutil>=2.8.1->pandas->-r requirements.txt (line 2)) (1.16.0)\n",
      "Requirement already satisfied: parso<0.9.0,>=0.8.0 in .\\venv\\lib\\site-packages (from jedi>=0.16->ipython>=7.23.1->ipykernel->-r requirements.txt (line 1)) (0.8.3)\n",
      "Requirement already satisfied: wcwidth in .\\venv\\lib\\site-packages (from prompt-toolkit<3.1.0,>=3.0.30->ipython>=7.23.1->ipykernel->-r requirements.txt (line 1)) (0.2.6)\n",
      "Requirement already satisfied: executing>=1.2.0 in .\\venv\\lib\\site-packages (from stack-data->ipython>=7.23.1->ipykernel->-r requirements.txt (line 1)) (1.2.0)\n",
      "Requirement already satisfied: asttokens>=2.1.0 in .\\venv\\lib\\site-packages (from stack-data->ipython>=7.23.1->ipykernel->-r requirements.txt (line 1)) (2.2.1)\n",
      "Requirement already satisfied: pure-eval in .\\venv\\lib\\site-packages (from stack-data->ipython>=7.23.1->ipykernel->-r requirements.txt (line 1)) (0.2.2)\n",
      "Note: you may need to restart the kernel to use updated packages.\n"
     ]
    }
   ],
   "source": [
    "%pip install -r requirements.txt"
   ]
  },
  {
   "cell_type": "code",
   "execution_count": 7,
   "metadata": {},
   "outputs": [],
   "source": [
    "import pandas as pd\n",
    "import numpy as np\n",
    "import matplotlib.pyplot as plt"
   ]
  },
  {
   "cell_type": "code",
   "execution_count": 8,
   "metadata": {},
   "outputs": [],
   "source": [
    "data = pd.read_csv('data\\\\train.csv')"
   ]
  },
  {
   "cell_type": "code",
   "execution_count": null,
   "metadata": {},
   "outputs": [],
   "source": []
  }
 ],
 "metadata": {
  "kernelspec": {
   "display_name": "venv",
   "language": "python",
   "name": "python3"
  },
  "language_info": {
   "codemirror_mode": {
    "name": "ipython",
    "version": 3
   },
   "file_extension": ".py",
   "mimetype": "text/x-python",
   "name": "python",
   "nbconvert_exporter": "python",
   "pygments_lexer": "ipython3",
   "version": "3.9.13"
  },
  "orig_nbformat": 4,
  "vscode": {
   "interpreter": {
    "hash": "a82c8ca98fb27ebdec13d4bba2bd2c17d00e16210326b75314fe55d67861f95b"
   }
  }
 },
 "nbformat": 4,
 "nbformat_minor": 2
}
